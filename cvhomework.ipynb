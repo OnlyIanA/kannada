{
 "cells": [
  {
   "cell_type": "code",
   "execution_count": 1,
   "id": "a952dd81",
   "metadata": {
    "_cell_guid": "b1076dfc-b9ad-4769-8c92-a6c4dae69d19",
    "_uuid": "8f2839f25d086af736a60e9eeb907d3b93b6e0e5",
    "execution": {
     "iopub.execute_input": "2024-06-01T10:54:19.184786Z",
     "iopub.status.busy": "2024-06-01T10:54:19.184377Z",
     "iopub.status.idle": "2024-06-01T10:54:20.123887Z",
     "shell.execute_reply": "2024-06-01T10:54:20.122611Z"
    },
    "papermill": {
     "duration": 0.949052,
     "end_time": "2024-06-01T10:54:20.127080",
     "exception": false,
     "start_time": "2024-06-01T10:54:19.178028",
     "status": "completed"
    },
    "tags": []
   },
   "outputs": [
    {
     "name": "stdout",
     "output_type": "stream",
     "text": [
      "/kaggle/input/Kannada-MNIST/sample_submission.csv\n",
      "/kaggle/input/Kannada-MNIST/Dig-MNIST.csv\n",
      "/kaggle/input/Kannada-MNIST/train.csv\n",
      "/kaggle/input/Kannada-MNIST/test.csv\n"
     ]
    }
   ],
   "source": [
    "# This Python 3 environment comes with many helpful analytics libraries installed\n",
    "# It is defined by the kaggle/python Docker image: https://github.com/kaggle/docker-python\n",
    "# For example, here's several helpful packages to load\n",
    "\n",
    "import numpy as np # linear algebra\n",
    "import pandas as pd # data processing, CSV file I/O (e.g. pd.read_csv)\n",
    "\n",
    "# Input data files are available in the read-only \"../input/\" directory\n",
    "# For example, running this (by clicking run or pressing Shift+Enter) will list all files under the input directory\n",
    "\n",
    "import os\n",
    "for dirname, _, filenames in os.walk('/kaggle/input'):\n",
    "    for filename in filenames:\n",
    "        print(os.path.join(dirname, filename))\n",
    "\n",
    "# You can write up to 20GB to the current directory (/kaggle/working/) that gets preserved as output when you create a version using \"Save & Run All\" \n",
    "# You can also write temporary files to /kaggle/temp/, but they won't be saved outside of the current session"
   ]
  },
  {
   "cell_type": "code",
   "execution_count": 2,
   "id": "ee6ec7fa",
   "metadata": {
    "execution": {
     "iopub.execute_input": "2024-06-01T10:54:20.138359Z",
     "iopub.status.busy": "2024-06-01T10:54:20.137860Z",
     "iopub.status.idle": "2024-06-01T10:54:26.853844Z",
     "shell.execute_reply": "2024-06-01T10:54:26.852736Z"
    },
    "papermill": {
     "duration": 6.724329,
     "end_time": "2024-06-01T10:54:26.856342",
     "exception": false,
     "start_time": "2024-06-01T10:54:20.132013",
     "status": "completed"
    },
    "tags": []
   },
   "outputs": [],
   "source": [
    "import matplotlib.pyplot as plt\n",
    "from sklearn.model_selection import train_test_split\n",
    "import torch\n",
    "import torch.nn as nn\n",
    "import torch.optim as optim\n",
    "import torchvision\n",
    "import torchvision.transforms as transforms\n",
    "from torch.utils.data import Dataset, DataLoader\n",
    "from sklearn.metrics import accuracy_score, precision_score, recall_score, f1_score, confusion_matrix\n",
    "from torch.optim.lr_scheduler import StepLR"
   ]
  },
  {
   "cell_type": "code",
   "execution_count": 3,
   "id": "8087f52a",
   "metadata": {
    "execution": {
     "iopub.execute_input": "2024-06-01T10:54:26.867509Z",
     "iopub.status.busy": "2024-06-01T10:54:26.866691Z",
     "iopub.status.idle": "2024-06-01T10:54:31.670754Z",
     "shell.execute_reply": "2024-06-01T10:54:31.669267Z"
    },
    "papermill": {
     "duration": 4.812308,
     "end_time": "2024-06-01T10:54:31.673162",
     "exception": false,
     "start_time": "2024-06-01T10:54:26.860854",
     "status": "completed"
    },
    "tags": []
   },
   "outputs": [
    {
     "name": "stdout",
     "output_type": "stream",
     "text": [
      "(60000, 785)\n",
      "(5000, 785)\n"
     ]
    }
   ],
   "source": [
    "train=pd.read_csv('/kaggle/input/Kannada-MNIST/train.csv')\n",
    "test=pd.read_csv('/kaggle/input/Kannada-MNIST/test.csv')\n",
    "print(train.shape)\n",
    "print(test.shape)"
   ]
  },
  {
   "cell_type": "code",
   "execution_count": 4,
   "id": "90f1c4b1",
   "metadata": {
    "execution": {
     "iopub.execute_input": "2024-06-01T10:54:31.683957Z",
     "iopub.status.busy": "2024-06-01T10:54:31.683553Z",
     "iopub.status.idle": "2024-06-01T10:54:32.315548Z",
     "shell.execute_reply": "2024-06-01T10:54:32.314041Z"
    },
    "papermill": {
     "duration": 0.640512,
     "end_time": "2024-06-01T10:54:32.318250",
     "exception": false,
     "start_time": "2024-06-01T10:54:31.677738",
     "status": "completed"
    },
    "tags": []
   },
   "outputs": [],
   "source": [
    "#数据预处理\n",
    "def data_prep(raw):\n",
    "    nums=raw.shape[0]\n",
    "    image_1d_list=raw.values[:,1:]\n",
    "    image_2d_list=image_1d_list.reshape(nums,28,28,1)\n",
    "    label_list=raw.values[:,0]\n",
    "    return image_2d_list,label_list\n",
    "image_list,label_list=data_prep(train)\n",
    "image_train_list,image_test_list,label_train_list,label_test_list=train_test_split(image_list,label_list,test_size=0.2, random_state=42)"
   ]
  },
  {
   "cell_type": "code",
   "execution_count": 5,
   "id": "19dd74e6",
   "metadata": {
    "execution": {
     "iopub.execute_input": "2024-06-01T10:54:32.329909Z",
     "iopub.status.busy": "2024-06-01T10:54:32.329513Z",
     "iopub.status.idle": "2024-06-01T10:54:32.337041Z",
     "shell.execute_reply": "2024-06-01T10:54:32.335756Z"
    },
    "papermill": {
     "duration": 0.01628,
     "end_time": "2024-06-01T10:54:32.339529",
     "exception": false,
     "start_time": "2024-06-01T10:54:32.323249",
     "status": "completed"
    },
    "tags": []
   },
   "outputs": [],
   "source": [
    "#绘图\n",
    "def draw_pics(image_list,label_list):\n",
    "    for i in range(10):\n",
    "        imgs=[]\n",
    "        for index,label in enumerate(label_list):\n",
    "            if label==i:\n",
    "                imgs.append(image_list[index])\n",
    "        for index,img in enumerate(imgs):\n",
    "            if index==5:\n",
    "                break\n",
    "            plt.subplot(5,10,i+index*10+1)\n",
    "            plt.imshow(imgs[index], cmap='gray')\n",
    "            plt.axis(\"off\")   "
   ]
  },
  {
   "cell_type": "code",
   "execution_count": 6,
   "id": "4de093f5",
   "metadata": {
    "execution": {
     "iopub.execute_input": "2024-06-01T10:54:32.350742Z",
     "iopub.status.busy": "2024-06-01T10:54:32.350328Z",
     "iopub.status.idle": "2024-06-01T10:54:32.359413Z",
     "shell.execute_reply": "2024-06-01T10:54:32.358111Z"
    },
    "papermill": {
     "duration": 0.017548,
     "end_time": "2024-06-01T10:54:32.361934",
     "exception": false,
     "start_time": "2024-06-01T10:54:32.344386",
     "status": "completed"
    },
    "tags": []
   },
   "outputs": [],
   "source": [
    "#LeNet\n",
    "class LeNet(nn.Module):\n",
    "    def __init__(self):\n",
    "        super(LeNet, self).__init__()\n",
    "        self.conv1 = nn.Conv2d(1, 6, 5)   # 第一个卷积层，输入通道为1，输出通道为6，卷积核大小为5x5\n",
    "        self.conv2 = nn.Conv2d(6, 16, 5)  # 第二个卷积层，输入通道为6，输出通道为16，卷积核大小为5x5\n",
    "        self.fc1 = nn.Linear(16*4*4, 120)  # 第一个全连接层，输入大小为16*4*4，输出大小为120\n",
    "        self.fc2 = nn.Linear(120, 84)      # 第二个全连接层，输入大小为120，输出大小为84\n",
    "        self.fc3 = nn.Linear(84, 10)       # 输出层，输入大小为84，输出大小为10\n",
    "\n",
    "    def forward(self, x):\n",
    "        x = torch.relu(self.conv1(x))   # 第一个卷积层的激活函数为ReLU\n",
    "        x = torch.max_pool2d(x, 2)      # 最大池化层，核大小为2x2\n",
    "        x = torch.relu(self.conv2(x))   # 第二个卷积层的激活函数为ReLU\n",
    "        x = torch.max_pool2d(x, 2)      # 最大池化层，核大小为2x2\n",
    "        x = x.view(-1, 16*4*4)          # 将特征图展平成一维向量\n",
    "        x = torch.relu(self.fc1(x))     # 第一个全连接层的激活函数为ReLU\n",
    "        x = torch.relu(self.fc2(x))     # 第二个全连接层的激活函数为ReLU\n",
    "        x = self.fc3(x)                # 输出层不使用激活函数\n",
    "        return x"
   ]
  },
  {
   "cell_type": "code",
   "execution_count": 7,
   "id": "b66a583d",
   "metadata": {
    "execution": {
     "iopub.execute_input": "2024-06-01T10:54:32.373114Z",
     "iopub.status.busy": "2024-06-01T10:54:32.372743Z",
     "iopub.status.idle": "2024-06-01T10:54:32.380276Z",
     "shell.execute_reply": "2024-06-01T10:54:32.378995Z"
    },
    "papermill": {
     "duration": 0.015858,
     "end_time": "2024-06-01T10:54:32.382508",
     "exception": false,
     "start_time": "2024-06-01T10:54:32.366650",
     "status": "completed"
    },
    "tags": []
   },
   "outputs": [],
   "source": [
    "#训练函数\n",
    "def KannadaTrain(model, criterion, optimizer, trainloader, epochs=5):\n",
    "    losses = []\n",
    "    for epoch in range(epochs):\n",
    "        running_loss = 0.0\n",
    "        for i, data in enumerate(trainloader):\n",
    "            inputs, labels = data#获取输入数据及对应的标签\n",
    "            optimizer.zero_grad()       # 梯度清零\n",
    "            outputs = model(inputs)     # 前向传播，调用cnn中的forward，计算出结果\n",
    "            loss = criterion(outputs, labels)  # 计算损失，利用交叉熵计算损失\n",
    "            loss.backward()            # 对损失进行反向传播，计算损失函数对模型参数的梯度\n",
    "            optimizer.step()\n",
    "            running_loss += loss.item()\n",
    "        losses.append(running_loss / len(trainloader))#第i次训练的交叉熵损失\n",
    "        print(f\"Epoch {epoch+1}, Loss: {running_loss / len(trainloader)}\")\n",
    "    return losses"
   ]
  },
  {
   "cell_type": "code",
   "execution_count": 8,
   "id": "8b073cc5",
   "metadata": {
    "execution": {
     "iopub.execute_input": "2024-06-01T10:54:32.393313Z",
     "iopub.status.busy": "2024-06-01T10:54:32.392908Z",
     "iopub.status.idle": "2024-06-01T10:54:32.400973Z",
     "shell.execute_reply": "2024-06-01T10:54:32.399812Z"
    },
    "papermill": {
     "duration": 0.01614,
     "end_time": "2024-06-01T10:54:32.403264",
     "exception": false,
     "start_time": "2024-06-01T10:54:32.387124",
     "status": "completed"
    },
    "tags": []
   },
   "outputs": [],
   "source": [
    "#组建dataloader\n",
    "class KannadaDataset(Dataset):\n",
    "\n",
    "    def __init__(self, images, labels):\n",
    "        self.images = images\n",
    "        self.labels = labels\n",
    "\n",
    "    def __len__(self):\n",
    "        return len(self.images)\n",
    "\n",
    "    def __getitem__(self, idx):\n",
    "        image = self.images[idx].reshape(1, 28, 28).astype('float32')\n",
    "        label = self.labels[idx]\n",
    "        return image, label\n",
    "train_dataset=KannadaDataset(image_train_list,label_train_list)\n",
    "train_dataloader = DataLoader(train_dataset, batch_size=100, shuffle=True)\n",
    "test_dataset=KannadaDataset(image_test_list,label_test_list)\n",
    "test_dataloader=DataLoader(test_dataset, batch_size=100, shuffle=True)"
   ]
  },
  {
   "cell_type": "code",
   "execution_count": 9,
   "id": "12f6a6f6",
   "metadata": {
    "execution": {
     "iopub.execute_input": "2024-06-01T10:54:32.414681Z",
     "iopub.status.busy": "2024-06-01T10:54:32.413897Z",
     "iopub.status.idle": "2024-06-01T11:03:09.732840Z",
     "shell.execute_reply": "2024-06-01T11:03:09.731628Z"
    },
    "papermill": {
     "duration": 517.327754,
     "end_time": "2024-06-01T11:03:09.735637",
     "exception": false,
     "start_time": "2024-06-01T10:54:32.407883",
     "status": "completed"
    },
    "tags": []
   },
   "outputs": [
    {
     "name": "stdout",
     "output_type": "stream",
     "text": [
      "Epoch 1, Loss: 0.5461921614284316\n",
      "Epoch 2, Loss: 0.155598336388357\n",
      "Epoch 3, Loss: 0.11866729398801303\n",
      "Epoch 4, Loss: 0.09853540110052564\n",
      "Epoch 5, Loss: 0.08507665902919447\n",
      "Epoch 6, Loss: 0.07581404221903844\n",
      "Epoch 7, Loss: 0.06812248346977867\n",
      "Epoch 8, Loss: 0.06254573904540545\n",
      "Epoch 9, Loss: 0.05730266764003318\n",
      "Epoch 10, Loss: 0.05360369521173804\n",
      "Epoch 11, Loss: 0.05059765500870223\n",
      "Epoch 12, Loss: 0.04667869078014822\n",
      "Epoch 13, Loss: 0.04454334015463246\n",
      "Epoch 14, Loss: 0.042249731451738624\n",
      "Epoch 15, Loss: 0.040438692393460464\n",
      "Epoch 16, Loss: 0.03825904860617205\n",
      "Epoch 17, Loss: 0.03675669454096351\n",
      "Epoch 18, Loss: 0.03529825187288225\n",
      "Epoch 19, Loss: 0.03356022353497489\n",
      "Epoch 20, Loss: 0.03257076874676083\n",
      "Epoch 21, Loss: 0.03140763701303513\n",
      "Epoch 22, Loss: 0.030561072148945337\n",
      "Epoch 23, Loss: 0.029404180230388495\n",
      "Epoch 24, Loss: 0.028467336158064425\n",
      "Epoch 25, Loss: 0.02743281590131422\n",
      "Epoch 26, Loss: 0.026663395312789363\n",
      "Epoch 27, Loss: 0.02572396947313488\n",
      "Epoch 28, Loss: 0.025100194881573164\n",
      "Epoch 29, Loss: 0.024340021609289882\n",
      "Epoch 30, Loss: 0.023127610144244196\n",
      "Epoch 31, Loss: 0.022782735860164393\n",
      "Epoch 32, Loss: 0.022276979628077242\n",
      "Epoch 33, Loss: 0.021547611581384747\n",
      "Epoch 34, Loss: 0.021051475783315253\n",
      "Epoch 35, Loss: 0.020610012947630214\n",
      "Epoch 36, Loss: 0.019613028280825045\n",
      "Epoch 37, Loss: 0.0193008922243583\n",
      "Epoch 38, Loss: 0.018665513111651915\n",
      "Epoch 39, Loss: 0.018487229932361515\n",
      "Epoch 40, Loss: 0.018053312320504725\n",
      "Epoch 41, Loss: 0.017364340246786014\n",
      "Epoch 42, Loss: 0.016787904210286798\n",
      "Epoch 43, Loss: 0.016400896409565272\n",
      "Epoch 44, Loss: 0.016110794167252605\n",
      "Epoch 45, Loss: 0.015423661306704162\n",
      "Epoch 46, Loss: 0.015071510842244607\n",
      "Epoch 47, Loss: 0.014831696433975593\n",
      "Epoch 48, Loss: 0.014422133755518492\n",
      "Epoch 49, Loss: 0.014249278795250574\n",
      "Epoch 50, Loss: 0.013724727340741084\n",
      "Epoch 51, Loss: 0.012927419764309889\n",
      "Epoch 52, Loss: 0.013110406916894135\n",
      "Epoch 53, Loss: 0.01284189242002564\n",
      "Epoch 54, Loss: 0.012338501009799075\n",
      "Epoch 55, Loss: 0.011978354420595376\n",
      "Epoch 56, Loss: 0.012179546528689874\n",
      "Epoch 57, Loss: 0.011772731169124502\n",
      "Epoch 58, Loss: 0.011265352630834969\n",
      "Epoch 59, Loss: 0.01103736497364783\n",
      "Epoch 60, Loss: 0.011124055390003681\n",
      "Epoch 61, Loss: 0.01061337014016317\n",
      "Epoch 62, Loss: 0.010077618822439642\n",
      "Epoch 63, Loss: 0.010415783132035965\n",
      "Epoch 64, Loss: 0.009965291624818443\n",
      "Epoch 65, Loss: 0.009618355434910578\n",
      "Epoch 66, Loss: 0.009439469388901974\n",
      "Epoch 67, Loss: 0.009057171469915677\n",
      "Epoch 68, Loss: 0.00872421591160067\n",
      "Epoch 69, Loss: 0.00876372783871678\n",
      "Epoch 70, Loss: 0.008557844539973302\n",
      "Epoch 71, Loss: 0.008241245979600837\n",
      "Epoch 72, Loss: 0.008445020687092134\n",
      "Epoch 73, Loss: 0.00794943342980332\n",
      "Epoch 74, Loss: 0.007855696346966094\n",
      "Epoch 75, Loss: 0.0075632831206348785\n",
      "Epoch 76, Loss: 0.007013957755316369\n",
      "Epoch 77, Loss: 0.007317337817706478\n",
      "Epoch 78, Loss: 0.006839090600791072\n",
      "Epoch 79, Loss: 0.007016745797606442\n",
      "Epoch 80, Loss: 0.006745915940655323\n",
      "Epoch 81, Loss: 0.006678141918625139\n",
      "Epoch 82, Loss: 0.0062142235608613795\n",
      "Epoch 83, Loss: 0.006292718007716758\n",
      "Epoch 84, Loss: 0.0058622655540602866\n",
      "Epoch 85, Loss: 0.0061024305121767\n",
      "Epoch 86, Loss: 0.00567069362869006\n",
      "Epoch 87, Loss: 0.005648686441418249\n",
      "Epoch 88, Loss: 0.005406227086480916\n",
      "Epoch 89, Loss: 0.0054798555359411695\n",
      "Epoch 90, Loss: 0.0052082172462481445\n",
      "Epoch 91, Loss: 0.005304302314470988\n",
      "Epoch 92, Loss: 0.004878291776033924\n",
      "Epoch 93, Loss: 0.0050590527401103225\n",
      "Epoch 94, Loss: 0.0048871251226122086\n",
      "Epoch 95, Loss: 0.004708812340701722\n",
      "Epoch 96, Loss: 0.004506250746862861\n",
      "Epoch 97, Loss: 0.0042367246496572385\n",
      "Epoch 98, Loss: 0.004335825249290793\n",
      "Epoch 99, Loss: 0.0042780671628861455\n",
      "Epoch 100, Loss: 0.004305228453150297\n"
     ]
    }
   ],
   "source": [
    "#开始训练\n",
    "model = LeNet()\n",
    "optimizer = optim.SGD(model.parameters(), lr=0.001)\n",
    "criterion = nn.CrossEntropyLoss()#创建损失函数为交叉熵\n",
    "losses= KannadaTrain(model, criterion, optimizer, train_dataloader,100)"
   ]
  },
  {
   "cell_type": "code",
   "execution_count": 10,
   "id": "e3edf3e8",
   "metadata": {
    "execution": {
     "iopub.execute_input": "2024-06-01T11:03:09.758916Z",
     "iopub.status.busy": "2024-06-01T11:03:09.758467Z",
     "iopub.status.idle": "2024-06-01T11:03:10.025427Z",
     "shell.execute_reply": "2024-06-01T11:03:10.024315Z"
    },
    "papermill": {
     "duration": 0.281286,
     "end_time": "2024-06-01T11:03:10.027712",
     "exception": false,
     "start_time": "2024-06-01T11:03:09.746426",
     "status": "completed"
    },
    "tags": []
   },
   "outputs": [
    {
     "data": {
      "image/png": "[encoded data removed]",
      "text/plain": [
       "<Figure size 640x480 with 1 Axes>"
      ]
     },
     "metadata": {},
     "output_type": "display_data"
    }
   ],
   "source": [
    "#可视化指标\n",
    "def plot_losses(losses):\n",
    "    plt.plot(losses)\n",
    "    plt.xlabel('Epoch')\n",
    "    plt.ylabel('Loss')\n",
    "    plt.title('Training Loss Curve')\n",
    "    plt.show()\n",
    "plot_losses(losses)"
   ]
  },
  {
   "cell_type": "code",
   "execution_count": 11,
   "id": "2f94978b",
   "metadata": {
    "execution": {
     "iopub.execute_input": "2024-06-01T11:03:10.053242Z",
     "iopub.status.busy": "2024-06-01T11:03:10.052895Z",
     "iopub.status.idle": "2024-06-01T11:03:10.060787Z",
     "shell.execute_reply": "2024-06-01T11:03:10.059681Z"
    },
    "papermill": {
     "duration": 0.023118,
     "end_time": "2024-06-01T11:03:10.063050",
     "exception": false,
     "start_time": "2024-06-01T11:03:10.039932",
     "status": "completed"
    },
    "tags": []
   },
   "outputs": [],
   "source": [
    "#评估模型\n",
    "def evaluate_model(model, testloader):\n",
    "    model.eval()  # 设置模型为评估模式，模型不会梯度计算，不会更新参数\n",
    "    y_true = []\n",
    "    y_pred = []\n",
    "    with torch.no_grad():\n",
    "        for data in testloader:\n",
    "            images, labels = data\n",
    "            outputs = model(images)   # 前向传播\n",
    "            _, predicted = torch.max(outputs, 1)  # 获取预测结果，返回向量第一列10维中最大的数字及其索引，_代表不关心第一个返回值\n",
    "            y_true.extend(labels.numpy())   # 将真实标签添加到列表中\n",
    "            y_pred.extend(predicted.numpy())   # 将预测标签添加到列表中\n",
    "\n",
    "    accuracy = accuracy_score(y_true, y_pred)   # 计算准确率\n",
    "    precision = precision_score(y_true, y_pred, average='macro')   # 计算精确率\n",
    "    recall = recall_score(y_true, y_pred, average='macro')   # 计算召回率\n",
    "    f1 = f1_score(y_true, y_pred, average='macro')   # 计算F1分数\n",
    "    conf_matrix = confusion_matrix(y_true, y_pred)   # 计算混淆矩阵\n",
    "    return accuracy, precision, recall, f1, conf_matrix"
   ]
  },
  {
   "cell_type": "code",
   "execution_count": 12,
   "id": "8f6d38d7",
   "metadata": {
    "execution": {
     "iopub.execute_input": "2024-06-01T11:03:10.086981Z",
     "iopub.status.busy": "2024-06-01T11:03:10.086619Z",
     "iopub.status.idle": "2024-06-01T11:03:11.130099Z",
     "shell.execute_reply": "2024-06-01T11:03:11.128793Z"
    },
    "papermill": {
     "duration": 1.059197,
     "end_time": "2024-06-01T11:03:11.133480",
     "exception": false,
     "start_time": "2024-06-01T11:03:10.074283",
     "status": "completed"
    },
    "tags": []
   },
   "outputs": [
    {
     "name": "stdout",
     "output_type": "stream",
     "text": [
      "Accuracy: 0.9895833333333334\n",
      "Precision: 0.9896069509719787\n",
      "Recall: 0.9895339023935541\n",
      "F1: 0.989547691071126\n"
     ]
    },
    {
     "data": {
      "image/png": "[encoded data removed]",
      "text/plain": [
       "<Figure size 480x480 with 2 Axes>"
      ]
     },
     "metadata": {},
     "output_type": "display_data"
    }
   ],
   "source": [
    "#评估模型的混淆矩阵可视化\n",
    "accuracy, precision, recall, f1, conf_matrix=evaluate_model(model, test_dataloader)\n",
    "print(f\"Accuracy: {accuracy}\")\n",
    "print(f\"Precision: {precision}\")\n",
    "print(f\"Recall: {recall}\")\n",
    "print(f\"F1: {f1}\")\n",
    "plt.matshow(conf_matrix, cmap='viridis')  # 绘制混淆矩阵\n",
    "plt.colorbar()  # 显示颜色条\n",
    "plt.xlabel('Predicted label')\n",
    "plt.ylabel('True label')\n",
    "plt.show()"
   ]
  },
  {
   "cell_type": "code",
   "execution_count": 13,
   "id": "a49b6bf3",
   "metadata": {
    "execution": {
     "iopub.execute_input": "2024-06-01T11:03:11.160822Z",
     "iopub.status.busy": "2024-06-01T11:03:11.160447Z",
     "iopub.status.idle": "2024-06-01T11:03:13.878151Z",
     "shell.execute_reply": "2024-06-01T11:03:13.877203Z"
    },
    "papermill": {
     "duration": 2.733986,
     "end_time": "2024-06-01T11:03:13.881130",
     "exception": false,
     "start_time": "2024-06-01T11:03:11.147144",
     "status": "completed"
    },
    "tags": []
   },
   "outputs": [],
   "source": [
    "#目的：分类kannada手写数字\n",
    "target_label=[]\n",
    "nums=test.shape[0]\n",
    "target_1d_list=test.values[:,1:]\n",
    "target_2d_list=target_1d_list.reshape(nums,28,28,1)\n",
    "for image in target_2d_list:\n",
    "    target=image.reshape(1, 28, 28).astype('float32')\n",
    "    target= torch.from_numpy(target)\n",
    "    output = model(target)\n",
    "    _, predicted = torch.max(output, 1)\n",
    "    target_label.append(predicted.item())  "
   ]
  },
  {
   "cell_type": "code",
   "execution_count": 14,
   "id": "e2e3d397",
   "metadata": {
    "execution": {
     "iopub.execute_input": "2024-06-01T11:03:13.906373Z",
     "iopub.status.busy": "2024-06-01T11:03:13.905975Z",
     "iopub.status.idle": "2024-06-01T11:03:13.923312Z",
     "shell.execute_reply": "2024-06-01T11:03:13.922479Z"
    },
    "papermill": {
     "duration": 0.032588,
     "end_time": "2024-06-01T11:03:13.925455",
     "exception": false,
     "start_time": "2024-06-01T11:03:13.892867",
     "status": "completed"
    },
    "tags": []
   },
   "outputs": [],
   "source": [
    "#输出\n",
    "result=[]\n",
    "for index, value in enumerate(target_label):\n",
    "    result.append([index,value])\n",
    "file_path = 'submission.csv'\n",
    "df = pd.DataFrame(result, columns=['id', 'label'])\n",
    "df.to_csv(file_path, index=False)"
   ]
  },
  {
   "cell_type": "code",
   "execution_count": 15,
   "id": "105e869c",
   "metadata": {
    "execution": {
     "iopub.execute_input": "2024-06-01T11:03:13.950410Z",
     "iopub.status.busy": "2024-06-01T11:03:13.949416Z",
     "iopub.status.idle": "2024-06-01T11:03:15.561851Z",
     "shell.execute_reply": "2024-06-01T11:03:15.560797Z"
    },
    "papermill": {
     "duration": 1.627518,
     "end_time": "2024-06-01T11:03:15.564502",
     "exception": false,
     "start_time": "2024-06-01T11:03:13.936984",
     "status": "completed"
    },
    "tags": []
   },
   "outputs": [
    {
     "data": {
      "image/png": "[encoded data removed]",
      "text/plain": [
       "<Figure size 640x480 with 50 Axes>"
      ]
     },
     "metadata": {},
     "output_type": "display_data"
    }
   ],
   "source": [
    "draw_pics(target_2d_list,target_label)"
   ]
  }
 ],
 "metadata": {
  "kaggle": {
   "accelerator": "none",
   "dataSources": [
    {
     "databundleVersionId": 708189,
     "sourceId": 16017,
     "sourceType": "competition"
    }
   ],
   "dockerImageVersionId": 30715,
   "isGpuEnabled": false,
   "isInternetEnabled": false,
   "language": "python",
   "sourceType": "notebook"
  },
  "kernelspec": {
   "display_name": "Python 3",
   "language": "python",
   "name": "python3"
  },
  "language_info": {
   "codemirror_mode": {
    "name": "ipython",
    "version": 3
   },
   "file_extension": ".py",
   "mimetype": "text/x-python",
   "name": "python",
   "nbconvert_exporter": "python",
   "pygments_lexer": "ipython3",
   "version": "3.10.13"
  },
  "papermill": {
   "default_parameters": {},
   "duration": 540.523886,
   "end_time": "2024-06-01T11:03:16.902358",
   "environment_variables": {},
   "exception": null,
   "input_path": "__notebook__.ipynb",
   "output_path": "__notebook__.ipynb",
   "parameters": {},
   "start_time": "2024-06-01T10:54:16.378472",
   "version": "2.5.0"
  }
 },
 "nbformat": 4,
 "nbformat_minor": 5
}
